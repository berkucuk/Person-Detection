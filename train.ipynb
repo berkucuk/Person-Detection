{
 "cells": [
  {
   "cell_type": "code",
   "execution_count": 1,
   "metadata": {},
   "outputs": [
    {
     "name": "stderr",
     "output_type": "stream",
     "text": [
      "2023-07-26 20:07:08.619768: I tensorflow/core/util/port.cc:110] oneDNN custom operations are on. You may see slightly different numerical results due to floating-point round-off errors from different computation orders. To turn them off, set the environment variable `TF_ENABLE_ONEDNN_OPTS=0`.\n",
      "2023-07-26 20:07:08.621885: I tensorflow/tsl/cuda/cudart_stub.cc:28] Could not find cuda drivers on your machine, GPU will not be used.\n",
      "2023-07-26 20:07:08.689348: I tensorflow/tsl/cuda/cudart_stub.cc:28] Could not find cuda drivers on your machine, GPU will not be used.\n",
      "2023-07-26 20:07:08.690930: I tensorflow/core/platform/cpu_feature_guard.cc:182] This TensorFlow binary is optimized to use available CPU instructions in performance-critical operations.\n",
      "To enable the following instructions: AVX2 AVX512F AVX512_VNNI FMA, in other operations, rebuild TensorFlow with the appropriate compiler flags.\n",
      "2023-07-26 20:07:10.449307: W tensorflow/compiler/tf2tensorrt/utils/py_utils.cc:38] TF-TRT Warning: Could not find TensorRT\n",
      "/usr/local/lib/python3.11/dist-packages/requests/__init__.py:102: RequestsDependencyWarning: urllib3 (1.26.12) or chardet (5.1.0)/charset_normalizer (2.0.12) doesn't match a supported version!\n",
      "  warnings.warn(\"urllib3 ({}) or chardet ({})/charset_normalizer ({}) doesn't match a supported \"\n"
     ]
    }
   ],
   "source": [
    "import pandas as pd\n",
    "import cv2\n",
    "import numpy as np\n",
    "import tensorflow as tf\n",
    "from keras.models import Sequential\n",
    "from keras.layers import Conv2D, MaxPooling2D, Flatten, Dense"
   ]
  },
  {
   "cell_type": "code",
   "execution_count": 2,
   "metadata": {},
   "outputs": [],
   "source": [
    "\n",
    "csv_file = \"archive/bbox.csv\"\n",
    "data = pd.read_csv(csv_file)\n",
    "images_path = \"archive/images/\" \n",
    "images = []\n",
    "coordinates = []"
   ]
  },
  {
   "cell_type": "code",
   "execution_count": null,
   "metadata": {},
   "outputs": [],
   "source": [
    "for index, row in data.iterrows():\n",
    "    image_file = images_path + row['name']\n",
    "    img = cv2.imread(image_file)\n",
    "    img = cv2.resize(img, (512, 512)) \n",
    "    images.append(img)\n",
    "    x1 = row['x1'] / img.shape[1]\n",
    "    x2 = row['x2'] / img.shape[1]\n",
    "    y1 = row['y1'] / img.shape[0]\n",
    "    y2 = row['y2'] / img.shape[0]\n",
    "    coordinates.append([x1, y1, x2, y2])\n",
    "\n",
    "images = np.array(images)\n",
    "coordinates = np.array(coordinates)\n",
    "\n"
   ]
  },
  {
   "cell_type": "code",
   "execution_count": 4,
   "metadata": {},
   "outputs": [
    {
     "data": {
      "text/plain": [
       "array([[3.40820312, 0.91210938, 4.53125   , 3.375     ],\n",
       "       [1.2890625 , 1.21875   , 4.10546875, 7.59375   ]])"
      ]
     },
     "execution_count": 4,
     "metadata": {},
     "output_type": "execute_result"
    }
   ],
   "source": [
    "coordinates[0:2]"
   ]
  },
  {
   "cell_type": "code",
   "execution_count": 5,
   "metadata": {},
   "outputs": [],
   "source": [
    "# split train and test data\n",
    "split_ratio = 0.8\n",
    "split_idx = int(len(images) * split_ratio)"
   ]
  },
  {
   "cell_type": "code",
   "execution_count": 6,
   "metadata": {},
   "outputs": [],
   "source": [
    "train_images = images[:split_idx]\n",
    "train_coordinates = coordinates[:split_idx]\n",
    "test_images = images[split_idx:]\n",
    "test_coordinates = coordinates[split_idx:]"
   ]
  },
  {
   "cell_type": "code",
   "execution_count": 7,
   "metadata": {},
   "outputs": [],
   "source": [
    "\n",
    "# Create CNN Model\n",
    "model = Sequential()\n",
    "model.add(Conv2D(32, (3, 3), activation='relu', input_shape=(512, 512, 3)))\n",
    "model.add(MaxPooling2D((2, 2)))\n",
    "model.add(Conv2D(64, (3, 3), activation='relu'))\n",
    "model.add(MaxPooling2D((2, 2)))\n",
    "model.add(Conv2D(128, (3, 3), activation='relu'))\n",
    "model.add(MaxPooling2D((2, 2)))\n",
    "model.add(Flatten())\n",
    "model.add(Dense(64, activation='relu'))\n",
    "model.add(Dense(4))  # Çıktı katmanı, x1, y1, x2, y2 koordinatlarını tahmin edecek 4 düğüm\n"
   ]
  },
  {
   "cell_type": "code",
   "execution_count": 8,
   "metadata": {},
   "outputs": [
    {
     "name": "stdout",
     "output_type": "stream",
     "text": [
      "Epoch 1/30\n",
      "22/22 [==============================] - 79s 4s/step - loss: 3807095.0000\n",
      "Epoch 2/30\n",
      "22/22 [==============================] - 77s 3s/step - loss: 13.4544\n",
      "Epoch 3/30\n",
      "22/22 [==============================] - 76s 3s/step - loss: 11.3838\n",
      "Epoch 4/30\n",
      "22/22 [==============================] - 75s 3s/step - loss: 6.5197\n",
      "Epoch 5/30\n",
      "22/22 [==============================] - 77s 3s/step - loss: 3.6918\n",
      "Epoch 6/30\n",
      "22/22 [==============================] - 77s 3s/step - loss: 2.3721\n",
      "Epoch 7/30\n",
      "22/22 [==============================] - 76s 3s/step - loss: 1.4622\n",
      "Epoch 8/30\n",
      "22/22 [==============================] - 76s 3s/step - loss: 1.0324\n",
      "Epoch 9/30\n",
      "22/22 [==============================] - 78s 4s/step - loss: 0.7856\n",
      "Epoch 10/30\n",
      "22/22 [==============================] - 78s 4s/step - loss: 0.6266\n",
      "Epoch 11/30\n",
      "22/22 [==============================] - 77s 4s/step - loss: 0.4716\n",
      "Epoch 12/30\n",
      "22/22 [==============================] - 77s 3s/step - loss: 0.4044\n",
      "Epoch 13/30\n",
      "22/22 [==============================] - 78s 4s/step - loss: 0.4307\n",
      "Epoch 14/30\n",
      "22/22 [==============================] - 76s 3s/step - loss: 0.3273\n",
      "Epoch 15/30\n",
      "22/22 [==============================] - 77s 3s/step - loss: 0.4616\n",
      "Epoch 16/30\n",
      "22/22 [==============================] - 77s 3s/step - loss: 0.5560\n",
      "Epoch 17/30\n",
      "22/22 [==============================] - 78s 4s/step - loss: 0.4325\n",
      "Epoch 18/30\n",
      "22/22 [==============================] - 78s 4s/step - loss: 0.5293\n",
      "Epoch 19/30\n",
      "22/22 [==============================] - 78s 4s/step - loss: 0.4096\n",
      "Epoch 20/30\n",
      "22/22 [==============================] - 78s 4s/step - loss: 0.3472\n",
      "Epoch 21/30\n",
      "22/22 [==============================] - 78s 4s/step - loss: 0.2861\n",
      "Epoch 22/30\n",
      "22/22 [==============================] - 78s 4s/step - loss: 0.2528\n",
      "Epoch 23/30\n",
      "22/22 [==============================] - 76s 3s/step - loss: 0.2111\n",
      "Epoch 24/30\n",
      "22/22 [==============================] - 75s 3s/step - loss: 0.1947\n",
      "Epoch 25/30\n",
      "22/22 [==============================] - 76s 3s/step - loss: 0.1889\n",
      "Epoch 26/30\n",
      "22/22 [==============================] - 75s 3s/step - loss: 0.1785\n",
      "Epoch 27/30\n",
      "22/22 [==============================] - 76s 3s/step - loss: 0.1798\n",
      "Epoch 28/30\n",
      "22/22 [==============================] - 76s 3s/step - loss: 0.1965\n",
      "Epoch 29/30\n",
      "22/22 [==============================] - 75s 3s/step - loss: 0.2113\n",
      "Epoch 30/30\n",
      "22/22 [==============================] - 75s 3s/step - loss: 0.2262\n"
     ]
    }
   ],
   "source": [
    "# Model compile\n",
    "model.compile(optimizer='adam', loss='mse')  # Mean Squared Error (MSE) \n",
    "\n",
    "# Model train\n",
    "hist = model.fit(train_images, train_coordinates, epochs=30, batch_size=32)\n"
   ]
  },
  {
   "cell_type": "code",
   "execution_count": 9,
   "metadata": {},
   "outputs": [
    {
     "name": "stderr",
     "output_type": "stream",
     "text": [
      "/home/berkkucukk/.local/lib/python3.11/site-packages/keras/src/engine/training.py:3000: UserWarning: You are saving your model as an HDF5 file via `model.save()`. This file format is considered legacy. We recommend using instead the native Keras format, e.g. `model.save('my_model.keras')`.\n",
      "  saving_api.save_model(\n"
     ]
    }
   ],
   "source": [
    "model.save(\"model.h5\")"
   ]
  },
  {
   "cell_type": "code",
   "execution_count": 10,
   "metadata": {},
   "outputs": [
    {
     "name": "stdout",
     "output_type": "stream",
     "text": [
      "6/6 [==============================] - 6s 914ms/step\n"
     ]
    }
   ],
   "source": [
    "\n",
    "predictions = model.predict(test_images)\n",
    "\n",
    "result_df = pd.DataFrame({'x1_tahmin': predictions[:, 0], 'y1_tahmin': predictions[:, 1],\n",
    "                          'x2_tahmin': predictions[:, 2], 'y2_tahmin': predictions[:, 3]})\n",
    "result_df['x1_gercek'] = test_coordinates[:, 0]\n",
    "result_df['y1_gercek'] = test_coordinates[:, 1]\n",
    "result_df['x2_gercek'] = test_coordinates[:, 2]\n",
    "result_df['y2_gercek'] = test_coordinates[:, 3]\n",
    "\n",
    "result_df.to_csv('kordinat_tahminleri2.csv', index=False)\n"
   ]
  },
  {
   "cell_type": "code",
   "execution_count": 23,
   "metadata": {},
   "outputs": [
    {
     "name": "stdout",
     "output_type": "stream",
     "text": [
      "1/1 [==============================] - 0s 53ms/step\n",
      "[1.6841125 0.7992023 3.4846146 3.1121206]\n",
      "[[1.6841125 0.7992023 3.4846146 3.1121206]]\n",
      "862.265625 409.19158935546875 1784.1226806640625 1593.40576171875\n"
     ]
    }
   ],
   "source": [
    "import cv2\n",
    "image_path = '/home/berkkucukk/PythonProjects/persondetect2/archive/images/photo-1671726203422-dd710fd8a72d.jpg'\n",
    "img = cv2.imread(image_path)\n",
    "img = cv2.resize(img, (512, 512))  \n",
    "img = np.expand_dims(img, axis=0)  \n",
    "\n",
    "# Predict\n",
    "predictions = model.predict(img)\n",
    "print(predictions[0])\n",
    "print(predictions)\n",
    "x1, y1, x2, y2 = predictions[0].astype(float)  \n",
    "x1 = x1*512\n",
    "y1 = y1*512\n",
    "x2 = x2*512\n",
    "y2 = y2*512\n",
    "print(x1, y1, x2, y2)\n",
    "x1 = int(x1)\n",
    "x2 = int(x2)\n",
    "y1 = int(y1)\n",
    "y2 = int(y2)\n",
    "img2 = cv2.imread(image_path)\n",
    "\n",
    "cv2.rectangle(img2, (x1, y1), (x2, y2), (0, 255, 0), 2)\n",
    "\n",
    "cv2.imshow('Kordinat Tahmini', img2)\n",
    "cv2.waitKey(0)\n",
    "cv2.destroyAllWindows()"
   ]
  },
  {
   "cell_type": "code",
   "execution_count": null,
   "metadata": {},
   "outputs": [],
   "source": []
  }
 ],
 "metadata": {
  "kernelspec": {
   "display_name": "Python 3",
   "language": "python",
   "name": "python3"
  },
  "language_info": {
   "codemirror_mode": {
    "name": "ipython",
    "version": 3
   },
   "file_extension": ".py",
   "mimetype": "text/x-python",
   "name": "python",
   "nbconvert_exporter": "python",
   "pygments_lexer": "ipython3",
   "version": "3.11.2"
  },
  "orig_nbformat": 4
 },
 "nbformat": 4,
 "nbformat_minor": 2
}
